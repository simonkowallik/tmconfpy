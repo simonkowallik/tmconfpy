{
 "cells": [
  {
   "cell_type": "code",
   "execution_count": 1,
   "metadata": {},
   "outputs": [],
   "source": [
    "from IPython.display import display, JSON"
   ]
  },
  {
   "cell_type": "markdown",
   "metadata": {},
   "source": [
    "# Basic usage"
   ]
  },
  {
   "cell_type": "code",
   "execution_count": 2,
   "metadata": {},
   "outputs": [],
   "source": [
    "from tmconfpy import Parser"
   ]
  },
  {
   "cell_type": "code",
   "execution_count": 3,
   "metadata": {},
   "outputs": [
    {
     "data": {
      "text/plain": [
       "{'ltm profile imap imap': {'activation-mode': 'require'}}"
      ]
     },
     "metadata": {},
     "output_type": "display_data"
    },
    {
     "data": {
      "text/plain": [
       "{'ltm profile pop3 pop3': {'activation-mode': 'require'}}"
      ]
     },
     "metadata": {},
     "output_type": "display_data"
    }
   ],
   "source": [
    "# parse the imap.tmconf and pop3.tmconf files\n",
    "imap_tmconf = Parser('imap.tmconf', is_filepath=True)\n",
    "pop3_tmconf = Parser('pop3.tmconf', is_filepath=True)\n",
    "\n",
    "# display the parsed data as a dictionary\n",
    "display(\n",
    "    imap_tmconf.dict,\n",
    "    pop3_tmconf.dict\n",
    ")"
   ]
  },
  {
   "cell_type": "markdown",
   "metadata": {},
   "source": [
    "#### Sorted tmconf data"
   ]
  },
  {
   "cell_type": "code",
   "execution_count": 4,
   "metadata": {},
   "outputs": [
    {
     "data": {
      "application/json": {
       "ltm profile profile-type MyProfile": {
        "AA": [
         "a",
         "c",
         "b"
        ],
        "aaa": "0",
        "b": {
         "A": "2",
         "Z": [
          "3",
          "2",
          "A",
          "1",
          "0"
         ],
         "a": "1"
        }
       },
       "ltm profile profile-type zProfile": {}
      },
      "text/plain": [
       "<IPython.core.display.JSON object>"
      ]
     },
     "metadata": {
      "application/json": {
       "expanded": false,
       "root": "root"
      }
     },
     "output_type": "display_data"
    },
    {
     "data": {
      "application/json": {
       "ltm profile profile-type MyProfile": {
        "AA": [
         "a",
         "b",
         "c"
        ],
        "aaa": "0",
        "b": {
         "A": "2",
         "Z": [
          "0",
          "1",
          "2",
          "3",
          "A"
         ],
         "a": "1"
        }
       },
       "ltm profile profile-type zProfile": {}
      },
      "text/plain": [
       "<IPython.core.display.JSON object>"
      ]
     },
     "metadata": {
      "application/json": {
       "expanded": false,
       "root": "root"
      }
     },
     "output_type": "display_data"
    },
    {
     "data": {
      "text/plain": [
       "'[[\"ltm profile profile-type\", \"zProfile\", {}], [\"ltm profile profile-type\", \"MyProfile\", {\"b\": {\"Z\": [\"3\", \"2\", \"A\", \"1\", \"0\"], \"a\": \"1\", \"A\": \"2\"}, \"aaa\": \"0\", \"AA\": [\"a\", \"c\", \"b\"]}]]'"
      ]
     },
     "metadata": {},
     "output_type": "display_data"
    },
    {
     "data": {
      "text/plain": [
       "'[[\"ltm profile profile-type\", \"MyProfile\", {\"AA\": [\"a\", \"b\", \"c\"], \"aaa\": \"0\", \"b\": {\"A\": \"2\", \"Z\": [\"0\", \"1\", \"2\", \"3\", \"A\"], \"a\": \"1\"}}], [\"ltm profile profile-type\", \"zProfile\", {}]]'"
      ]
     },
     "metadata": {},
     "output_type": "display_data"
    }
   ],
   "source": [
    "tmconf_text = r\"\"\"\n",
    "ltm profile profile-type zProfile { }\n",
    "ltm profile profile-type MyProfile {\n",
    "    b {\n",
    "        Z { 3 2 A 1 0 }\n",
    "        a 1\n",
    "        A 2\n",
    "    }\n",
    "    aaa 0\n",
    "    AA { a c b }\n",
    "}\n",
    "\"\"\"\n",
    "tm_unsorted = Parser(tmconf_text)\n",
    "tm_sorted = Parser(tmconf_text, sort=True)\n",
    "\n",
    "display(\n",
    "    JSON(tm_unsorted.dict),\n",
    "    JSON(tm_sorted.dict),\n",
    "    tm_unsorted.tabular_json,\n",
    "    tm_sorted.tabular_json,\n",
    "    )\n"
   ]
  },
  {
   "cell_type": "markdown",
   "metadata": {},
   "source": [
    "# Advanced examples"
   ]
  },
  {
   "cell_type": "code",
   "execution_count": null,
   "metadata": {},
   "outputs": [],
   "source": [
    "# load test.tmconf\n",
    "tmconf = Parser('test.tmconf', is_filepath=True)"
   ]
  },
  {
   "cell_type": "markdown",
   "metadata": {},
   "source": [
    "#### tmconf in object format"
   ]
  },
  {
   "cell_type": "code",
   "execution_count": 6,
   "metadata": {},
   "outputs": [
    {
     "data": {
      "text/plain": [
       "{'apm application-family /Common/Audio': {'id': '16588'},\n",
       " 'apm application-family /Common/Audio_Video': {'id': '16590'},\n",
       " 'apm application-family /Common/Instant_Messaging': {'id': '16476'},\n",
       " 'apm application-family /Common/Music': {'id': '16574'},\n",
       " 'apm application-family /Common/News_and_Media': {'id': '16538'},\n",
       " 'apm application-family /Common/Unknown': {'id': '16579'},\n",
       " 'apm application-family /Common/Video': {'id': '16589'},\n",
       " 'apm application-family /Common/Web_Based_Email': {'id': '16573'},\n",
       " 'apm application /Common/archive_audio': {'app-family': '/Common/Audio',\n",
       "  'app-family-id': '16588',\n",
       "  'description': '\"Internet Archive is an online digital library that holds digitized materials such as website histories, music, movies, images and digital books. This classification will match Archive\\'s audio content.\"',\n",
       "  'id': '4018'},\n",
       " 'apm application /Common/http_file_audio': {'app-family': '/Common/Audio',\n",
       "  'app-family-id': '16588',\n",
       "  'description': '\"This classification will match common audio files transferred over HTTP\"',\n",
       "  'id': '4071'}}"
      ]
     },
     "execution_count": 6,
     "metadata": {},
     "output_type": "execute_result"
    }
   ],
   "source": [
    "#tmconf.dict\n",
    "\n",
    "# limit the output size in the example to the first 10 keys of tmconf.dict\n",
    "{key: tmconf.dict[key] for key in list(tmconf.dict)[:10]}"
   ]
  },
  {
   "cell_type": "markdown",
   "metadata": {},
   "source": [
    "#### tmconf in tabular format\n",
    "\n",
    "Each entry in tmconf is a row. Each row has three columns, 1) path, 2) name and 3) object."
   ]
  },
  {
   "cell_type": "code",
   "execution_count": 7,
   "metadata": {},
   "outputs": [
    {
     "data": {
      "text/plain": [
       "[tabularTmconf(path='apm application-family', name='/Common/Audio', object={'id': '16588'}),\n",
       " tabularTmconf(path='apm application-family', name='/Common/Audio_Video', object={'id': '16590'}),\n",
       " tabularTmconf(path='apm application-family', name='/Common/Instant_Messaging', object={'id': '16476'}),\n",
       " tabularTmconf(path='apm application-family', name='/Common/Music', object={'id': '16574'}),\n",
       " tabularTmconf(path='apm application-family', name='/Common/News_and_Media', object={'id': '16538'}),\n",
       " tabularTmconf(path='apm application-family', name='/Common/Unknown', object={'id': '16579'}),\n",
       " tabularTmconf(path='apm application-family', name='/Common/Video', object={'id': '16589'}),\n",
       " tabularTmconf(path='apm application-family', name='/Common/Web_Based_Email', object={'id': '16573'}),\n",
       " tabularTmconf(path='apm application', name='/Common/archive_audio', object={'app-family': '/Common/Audio', 'app-family-id': '16588', 'description': '\"Internet Archive is an online digital library that holds digitized materials such as website histories, music, movies, images and digital books. This classification will match Archive\\'s audio content.\"', 'id': '4018'}),\n",
       " tabularTmconf(path='apm application', name='/Common/http_file_audio', object={'app-family': '/Common/Audio', 'app-family-id': '16588', 'description': '\"This classification will match common audio files transferred over HTTP\"', 'id': '4071'})]"
      ]
     },
     "execution_count": 7,
     "metadata": {},
     "output_type": "execute_result"
    }
   ],
   "source": [
    "#tmconf.tabular\n",
    "\n",
    "# limit the output size for this example to the first 10 entries of tmconf.tabular\n",
    "tmconf.tabular[:10]"
   ]
  },
  {
   "cell_type": "code",
   "execution_count": 8,
   "metadata": {},
   "outputs": [
    {
     "data": {
      "text/plain": [
       "'apm application-family'"
      ]
     },
     "metadata": {},
     "output_type": "display_data"
    },
    {
     "data": {
      "text/plain": [
       "'/Common/Audio_Video'"
      ]
     },
     "metadata": {},
     "output_type": "display_data"
    },
    {
     "data": {
      "text/plain": [
       "{'id': '16590'}"
      ]
     },
     "metadata": {},
     "output_type": "display_data"
    }
   ],
   "source": [
    "# within python the tabular format uses named tuples. They allow accessing the columns by name.\n",
    "\n",
    "row_no = 1\n",
    "\n",
    "display(\n",
    "    tmconf.tabular[row_no].path,\n",
    "    tmconf.tabular[row_no].name,\n",
    "    tmconf.tabular[row_no].object\n",
    ")"
   ]
  },
  {
   "cell_type": "markdown",
   "metadata": {},
   "source": [
    "#### Display defined ciphers for each client-ssl profile"
   ]
  },
  {
   "cell_type": "code",
   "execution_count": 9,
   "metadata": {},
   "outputs": [
    {
     "data": {
      "text/plain": [
       "[('clientssl', 'DEFAULT'),\n",
       " ('clientssl-insecure-compatible', 'ALL:!DH:!ADH:!EDH:@SPEED'),\n",
       " ('wom-default-clientssl', None),\n",
       " ('crypto-server-default-clientssl', 'DHE-RSA-AES256-GCM-SHA384'),\n",
       " ('clientssl-secure', 'ecdhe:rsa:!sslv3:!rc4:!exp:!des'),\n",
       " ('splitsession-default-clientssl', None),\n",
       " ('clientssl-quic', 'none')]"
      ]
     },
     "execution_count": 9,
     "metadata": {},
     "output_type": "execute_result"
    }
   ],
   "source": [
    "[(entry.name, entry.object.get('ciphers')) for entry in tmconf.tabular if entry.path == 'ltm profile client-ssl']"
   ]
  },
  {
   "cell_type": "markdown",
   "metadata": {},
   "source": [
    "#### Search for an object named 'aol' and return the path and object data"
   ]
  },
  {
   "cell_type": "code",
   "execution_count": 10,
   "metadata": {},
   "outputs": [
    {
     "data": {
      "text/plain": [
       "[('ltm data-group internal',\n",
       "  {'records': {'64.12.96.0/19': {},\n",
       "    '195.93.16.0/20': {},\n",
       "    '195.93.48.0/22': {},\n",
       "    '195.93.64.0/19': {},\n",
       "    '195.93.96.0/19': {},\n",
       "    '198.81.0.0/22': {},\n",
       "    '198.81.8.0/23': {},\n",
       "    '198.81.16.0/20': {},\n",
       "    '202.67.65.128/25': {},\n",
       "    '205.188.112.0/20': {},\n",
       "    '205.188.146.144/30': {},\n",
       "    '205.188.192.0/20': {},\n",
       "    '205.188.208.0/23': {},\n",
       "    '207.200.112.0/21': {}},\n",
       "   'type': 'ip'})]"
      ]
     },
     "metadata": {},
     "output_type": "display_data"
    }
   ],
   "source": [
    "display([(entry.path, entry.object) for entry in tmconf.tabular if entry.name == 'aol'])"
   ]
  },
  {
   "cell_type": "markdown",
   "metadata": {},
   "source": [
    "#### Find duplicate object names and their paths"
   ]
  },
  {
   "cell_type": "code",
   "execution_count": 11,
   "metadata": {},
   "outputs": [
    {
     "data": {
      "text/plain": [
       "[('/Common/f5-default', ['ltm cipher rule', 'ltm cipher group']),\n",
       " ('/Common/f5-ecc', ['ltm cipher rule', 'ltm cipher group']),\n",
       " ('/Common/f5-hw_keys', ['ltm cipher rule', 'ltm cipher group']),\n",
       " ('/Common/f5-secure', ['ltm cipher rule', 'ltm cipher group']),\n",
       " ('/Common/f5-quic', ['ltm cipher rule', 'ltm cipher group']),\n",
       " ('/Common/f5-fips', ['ltm cipher rule', 'ltm cipher group']),\n",
       " ('/Common/f5-cc-stip', ['ltm cipher rule', 'ltm cipher group'])]"
      ]
     },
     "metadata": {},
     "output_type": "display_data"
    }
   ],
   "source": [
    "from collections import defaultdict\n",
    "\n",
    "# use defaultdict to create a dictionary with a list as the default value\n",
    "name_to_path_mapping = defaultdict(list)\n",
    "\n",
    "# iterate over the tabular data and append the path to the list of paths for each name\n",
    "{name_to_path_mapping[name].append(path) for path, name, _ in tmconf.tabular}\n",
    "\n",
    "# filter the dictionary to only include names with more than one path\n",
    "duplicate_object_names = [(name, paths) for name, paths in name_to_path_mapping.items() if len(paths) > 1]\n",
    "\n",
    "display(duplicate_object_names)"
   ]
  },
  {
   "cell_type": "markdown",
   "metadata": {},
   "source": [
    "#### Find exactly where `/Common/default.key` is used in objects"
   ]
  },
  {
   "cell_type": "code",
   "execution_count": null,
   "metadata": {},
   "outputs": [],
   "source": [
    "# install and use the awesome boltons package\n",
    "%pip install boltons\n",
    "from boltons.iterutils import research"
   ]
  },
  {
   "cell_type": "code",
   "execution_count": 13,
   "metadata": {},
   "outputs": [
    {
     "data": {
      "text/plain": [
       "[{'path': 'ltm profile client-ssl',\n",
       "  'object_name': 'clientssl',\n",
       "  'path_within_object': (('cert-key-chain', 'default', 'key'),\n",
       "   '/Common/default.key')},\n",
       " {'path': 'ltm profile client-ssl',\n",
       "  'object_name': 'clientssl-insecure-compatible',\n",
       "  'path_within_object': (('cert-key-chain', 'default', 'key'),\n",
       "   '/Common/default.key')},\n",
       " {'path': 'ltm profile client-ssl',\n",
       "  'object_name': 'wom-default-clientssl',\n",
       "  'path_within_object': (('cert-key-chain', 'default', 'key'),\n",
       "   '/Common/default.key')},\n",
       " {'path': 'ltm profile client-ssl',\n",
       "  'object_name': 'crypto-server-default-clientssl',\n",
       "  'path_within_object': (('cert-key-chain', 'default', 'key'),\n",
       "   '/Common/default.key')},\n",
       " {'path': 'ltm profile client-ssl',\n",
       "  'object_name': 'clientssl-secure',\n",
       "  'path_within_object': (('cert-key-chain', 'default', 'key'),\n",
       "   '/Common/default.key')},\n",
       " {'path': 'ltm profile client-ssl',\n",
       "  'object_name': 'splitsession-default-clientssl',\n",
       "  'path_within_object': (('cert-key-chain', 'default', 'key'),\n",
       "   '/Common/default.key')},\n",
       " {'path': 'ltm profile client-ssl',\n",
       "  'object_name': 'clientssl-quic',\n",
       "  'path_within_object': (('cert-key-chain', 'default', 'key'),\n",
       "   '/Common/default.key')},\n",
       " {'path': 'ltm profile server-ssl',\n",
       "  'object_name': 'splitsession-default-serverssl',\n",
       "  'path_within_object': (('key',), '/Common/default.key')},\n",
       " {'path': 'ltm profile rewrite',\n",
       "  'object_name': 'rewrite',\n",
       "  'path_within_object': (('java-sign-key',), '/Common/default.key')},\n",
       " {'path': 'ltm profile rewrite',\n",
       "  'object_name': 'rewrite-portal',\n",
       "  'path_within_object': (('java-sign-key',), '/Common/default.key')},\n",
       " {'path': 'ltm profile server-ssl',\n",
       "  'object_name': 'wom-default-serverssl',\n",
       "  'path_within_object': (('key',), '/Common/default.key')},\n",
       " {'path': 'net ipsec ike-peer',\n",
       "  'object_name': 'anonymous',\n",
       "  'path_within_object': (('my-cert-key-file',), '/Common/default.key')}]"
      ]
     },
     "metadata": {},
     "output_type": "display_data"
    }
   ],
   "source": [
    "# Use a list comprehension to create a list of dicts.\n",
    "# The boltons research function to search for /Common/default.key either in keys or values\n",
    "\n",
    "search_string = '/Common/default.key'\n",
    "\n",
    "results = [\n",
    "    # create a dict with path, object_name, and location_within_object keys\n",
    "    {'path': path, 'object_name': name, 'path_within_object': used_at_position[0]}\n",
    "    # enumerate over tabular data\n",
    "    for path, name, obj in tmconf.tabular\n",
    "    # filter out non-dict objects\n",
    "    if isinstance(obj, dict) \n",
    "    # use the boltons research function to search for the search_string in keys or values and store the exact position\n",
    "    and (used_at_position := research(obj, query=lambda path, key, value: key == search_string or value == search_string))\n",
    "]\n",
    "\n",
    "display(results)"
   ]
  },
  {
   "cell_type": "code",
   "execution_count": 14,
   "metadata": {},
   "outputs": [
    {
     "name": "stdout",
     "output_type": "stream",
     "text": [
      "{\"path\": \"ltm profile client-ssl\", \"name\": \"clientssl\", \"object\": {\"alert-timeout\": \"indefinite\", \"allow-dynamic-record-sizing\": \"disabled\", \"authenticate\": \"once\", \"authenticate-depth\": \"9\", \"ca-file\": \"none\", \"cache-size\": \"262144\", \"cache-timeout\": \"3600\", \"cert-extension-includes\": [\"basic-constraints\", \"subject-alternative-name\"], \"cert-key-chain\": {\"default\": {\"cert\": \"/Common/default.crt\", \"chain\": \"none\", \"key\": \"/Common/default.key\", \"passphrase\": \"none\"}}, \"cert\": \"/Common/default.crt\", \"chain\": \"none\", \"ciphers\": \"DEFAULT\", \"client-cert-ca\": \"none\", \"crl-file\": \"none\", \"handshake-timeout\": \"10\", \"key\": \"/Common/default.key\", \"maximum-record-size\": \"16384\", \"mod-ssl-methods\": \"disabled\", \"mode\": \"enabled\", \"options\": [\"dont-insert-empty-fragments\", \"no-tlsv1.3\", \"no-dtlsv1.2\"], \"passphrase\": \"none\", \"peer-cert-mode\": \"ignore\", \"renegotiate-max-record-delay\": \"indefinite\", \"renegotiate-period\": \"indefinite\", \"renegotiate-size\": \"indefinite\", \"renegotiation\": \"enabled\", \"secure-renegotiation\": \"require\", \"strict-resume\": \"disabled\", \"unclean-shutdown\": \"enabled\", \"peer-no-renegotiate-timeout\": \"10\", \"log-publisher\": \"/Common/sys-ssl-publisher\"}}\n",
      "{\"path\": \"ltm profile client-ssl\", \"name\": \"clientssl-insecure-compatible\", \"object\": {\"cert-key-chain\": {\"default\": {\"cert\": \"/Common/default.crt\", \"chain\": \"none\", \"key\": \"/Common/default.key\", \"passphrase\": \"none\"}}, \"cert\": \"/Common/default.crt\", \"chain\": \"none\", \"key\": \"/Common/default.key\", \"passphrase\": \"none\", \"ciphers\": \"ALL:!DH:!ADH:!EDH:@SPEED\", \"defaults-from\": \"/Common/clientssl\", \"inherit-certkeychain\": \"true\", \"renegotiation\": \"enabled\", \"secure-renegotiation\": \"request\"}}\n",
      "{\"path\": \"ltm profile client-ssl\", \"name\": \"wom-default-clientssl\", \"object\": {\"allow-non-ssl\": \"enabled\", \"defaults-from\": \"/Common/clientssl\", \"cert-key-chain\": {\"default\": {\"cert\": \"/Common/default.crt\", \"chain\": \"none\", \"key\": \"/Common/default.key\", \"passphrase\": \"none\"}}, \"cert\": \"/Common/default.crt\", \"chain\": \"none\", \"key\": \"/Common/default.key\", \"passphrase\": \"none\", \"inherit-certkeychain\": \"true\"}}\n",
      "{\"path\": \"ltm profile client-ssl\", \"name\": \"crypto-server-default-clientssl\", \"object\": {\"defaults-from\": \"/Common/clientssl\", \"cert-key-chain\": {\"default\": {\"cert\": \"/Common/default.crt\", \"chain\": \"none\", \"key\": \"/Common/default.key\", \"passphrase\": \"none\"}}, \"cert\": \"/Common/default.crt\", \"chain\": \"none\", \"key\": \"/Common/default.key\", \"passphrase\": \"none\", \"inherit-certkeychain\": \"true\", \"ciphers\": \"DHE-RSA-AES256-GCM-SHA384\", \"renegotiate-period\": \"21600\", \"cache-size\": \"0\"}}\n",
      "{\"path\": \"ltm profile client-ssl\", \"name\": \"clientssl-secure\", \"object\": {\"app-service\": \"none\", \"cert\": \"/Common/default.crt\", \"cert-key-chain\": {\"default\": {\"cert\": \"/Common/default.crt\", \"key\": \"/Common/default.key\"}}, \"chain\": \"none\", \"ciphers\": \"ecdhe:rsa:!sslv3:!rc4:!exp:!des\", \"defaults-from\": \"/Common/clientssl\", \"inherit-certkeychain\": \"true\", \"key\": \"/Common/default.key\", \"options\": [\"no-ssl\", \"no-tlsv1.3\"], \"passphrase\": \"none\", \"renegotiation\": \"disabled\"}}\n",
      "{\"path\": \"ltm profile client-ssl\", \"name\": \"splitsession-default-clientssl\", \"object\": {\"defaults-from\": \"/Common/clientssl\", \"cert-key-chain\": {\"default\": {\"cert\": \"/Common/default.crt\", \"chain\": \"none\", \"key\": \"/Common/default.key\", \"passphrase\": \"none\"}}, \"cert\": \"/Common/default.crt\", \"chain\": \"none\", \"key\": \"/Common/default.key\", \"passphrase\": \"none\", \"inherit-certkeychain\": \"true\"}}\n",
      "{\"path\": \"ltm profile client-ssl\", \"name\": \"clientssl-quic\", \"object\": {\"app-service\": \"none\", \"cert\": \"/Common/default.crt\", \"cert-key-chain\": {\"default\": {\"cert\": \"/Common/default.crt\", \"key\": \"/Common/default.key\"}}, \"chain\": \"none\", \"cipher-group\": \"/Common/f5-quic\", \"ciphers\": \"none\", \"data-0rtt\": \"enabled-with-anti-replay\", \"defaults-from\": \"/Common/clientssl\", \"inherit-certkeychain\": \"true\", \"key\": \"/Common/default.key\", \"options\": [\"dont-insert-empty-fragments\", \"no-ssl\", \"no-dtls\", \"no-tlsv1.1\", \"no-tlsv1.2\", \"no-tlsv1\"], \"passphrase\": \"none\", \"renegotiation\": \"disabled\", \"session-ticket\": \"enabled\"}}\n",
      "{\"path\": \"ltm profile server-ssl\", \"name\": \"splitsession-default-serverssl\", \"object\": {\"defaults-from\": \"/Common/serverssl\", \"cert\": \"/Common/default.crt\", \"key\": \"/Common/default.key\", \"mode\": \"enabled\"}}\n",
      "{\"path\": \"ltm profile rewrite\", \"name\": \"rewrite\", \"object\": {\"client-caching-type\": \"cache-css-js\", \"bypass-list\": \"none\", \"rewrite-list\": \"none\", \"split-tunneling\": \"false\", \"java-ca-file\": \"/Common/ca-bundle.crt\", \"java-sign-key\": \"/Common/default.key\", \"java-signer\": \"/Common/default.crt\"}}\n",
      "{\"path\": \"ltm profile rewrite\", \"name\": \"rewrite-portal\", \"object\": {\"rewrite-mode\": \"portal\", \"java-ca-file\": \"/Common/ca-bundle.crt\", \"java-sign-key\": \"/Common/default.key\", \"java-signer\": \"/Common/default.crt\"}}\n",
      "{\"path\": \"ltm profile server-ssl\", \"name\": \"wom-default-serverssl\", \"object\": {\"defaults-from\": \"/Common/serverssl\", \"cert\": \"/Common/default.crt\", \"key\": \"/Common/default.key\", \"mode\": \"disabled\"}}\n",
      "{\"path\": \"net ipsec ike-peer\", \"name\": \"anonymous\", \"object\": {\"my-cert-file\": \"/Common/default.crt\", \"my-cert-key-file\": \"/Common/default.key\", \"my-id-type\": \"asn1dn\", \"peers-id-type\": \"asn1dn\", \"state\": \"disabled\", \"verify-cert\": \"false\"}}\n"
     ]
    }
   ],
   "source": [
    "# pragmatic command line approach\n",
    "# use the tmconfpy CLI to search for /Common/default.key and display the results as JSONL redirecting stderr to /dev/null\n",
    "!( tmconfpy test.tmconf --format jsonl | grep '/Common/default.key' ) 2>/dev/null"
   ]
  },
  {
   "cell_type": "markdown",
   "metadata": {},
   "source": [
    "#### using jmespath, which is also used by ansible's json_query"
   ]
  },
  {
   "cell_type": "code",
   "execution_count": null,
   "metadata": {},
   "outputs": [],
   "source": [
    "# install and use the awesome jmespath package\n",
    "%pip install jmespath\n",
    "import jmespath\n"
   ]
  },
  {
   "cell_type": "code",
   "execution_count": 16,
   "metadata": {},
   "outputs": [
    {
     "data": {
      "text/plain": [
       "['clientssl',\n",
       " 'clientssl-insecure-compatible',\n",
       " 'wom-default-clientssl',\n",
       " 'crypto-server-default-clientssl',\n",
       " 'clientssl-secure',\n",
       " 'splitsession-default-clientssl',\n",
       " 'clientssl-quic']"
      ]
     },
     "execution_count": 16,
     "metadata": {},
     "output_type": "execute_result"
    }
   ],
   "source": [
    "# search all client-ssl profiles and return their names\n",
    "jmespath.search(\"[?path == 'ltm profile client-ssl'].name\", tmconf.tabular_kv)"
   ]
  }
 ],
 "metadata": {
  "kernelspec": {
   "display_name": ".venv",
   "language": "python",
   "name": "python3"
  },
  "language_info": {
   "codemirror_mode": {
    "name": "ipython",
    "version": 3
   },
   "file_extension": ".py",
   "mimetype": "text/x-python",
   "name": "python",
   "nbconvert_exporter": "python",
   "pygments_lexer": "ipython3",
   "version": "3.10.12"
  }
 },
 "nbformat": 4,
 "nbformat_minor": 2
}
